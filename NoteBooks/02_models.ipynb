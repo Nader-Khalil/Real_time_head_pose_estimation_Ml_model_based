{
  "nbformat": 4,
  "nbformat_minor": 0,
  "metadata": {
    "colab": {
      "name": "Copy of media_models.ipynb",
      "provenance": [],
      "collapsed_sections": [
        "6JavhCARgXmh"
      ]
    },
    "kernelspec": {
      "name": "python3",
      "display_name": "Python 3"
    },
    "language_info": {
      "name": "python"
    }
  },
  "cells": [
    {
      "cell_type": "markdown",
      "metadata": {
        "id": "view-in-github"
      },
      "source": [
        "<a href=\"https://colab.research.google.com/github/Yassmina-Abdo/realtime-head-pose-estimation/blob/main/Notebooks/models.ipynb\" target=\"_parent\"><img src=\"https://colab.research.google.com/assets/colab-badge.svg\" alt=\"Open In Colab\"/></a>"
      ]
    },
    {
      "cell_type": "code",
      "execution_count": 1,
      "metadata": {
        "id": "thCx11OGA9re",
        "colab": {
          "base_uri": "https://localhost:8080/"
        },
        "outputId": "5301c876-3875-428d-e09e-3df67a371904"
      },
      "outputs": [
        {
          "output_type": "stream",
          "name": "stdout",
          "text": [
            "Mounted at /content/drive\n"
          ]
        }
      ],
      "source": [
        "from google.colab import drive\n",
        "drive.mount('/content/drive')"
      ]
    },
    {
      "cell_type": "markdown",
      "source": [
        "## Liberaries"
      ],
      "metadata": {
        "id": "JIkUGP5zgFLZ"
      }
    },
    {
      "cell_type": "code",
      "source": [
        "import numpy as np\n",
        "import pickle\n",
        "import pandas as pd\n",
        "from sklearn.datasets import make_regression\n",
        "from sklearn.model_selection import train_test_split\n",
        "from sklearn.multioutput import MultiOutputRegressor\n",
        "from sklearn.ensemble import RandomForestRegressor\n",
        "from sklearn.svm import LinearSVR, SVR,SVC\n",
        "from sklearn.preprocessing import MinMaxScaler,StandardScaler\n",
        "import matplotlib.pyplot as plt\n",
        "from matplotlib.pyplot import figure"
      ],
      "metadata": {
        "id": "9C1KQNDYBwAC"
      },
      "execution_count": 21,
      "outputs": []
    },
    {
      "cell_type": "markdown",
      "source": [
        "## Reading the prepared dataset and split it"
      ],
      "metadata": {
        "id": "rePFWZ7DgJ4R"
      }
    },
    {
      "cell_type": "code",
      "source": [
        "path_local='../../Data/media_with_angles_low_normed.csv'\n",
        "path_drive='/content/drive/MyDrive/Head Pose Estimation ML Project/Dataset/Data/media_with_angles_low_normed.csv'\n",
        "data =pd.read_csv(path_drive)\n",
        "data.head()"
      ],
      "metadata": {
        "colab": {
          "base_uri": "https://localhost:8080/",
          "height": 299
        },
        "id": "720EacvKK8kk",
        "outputId": "007817e4-4d95-4ffd-c21c-cffdf3394918"
      },
      "execution_count": 22,
      "outputs": [
        {
          "output_type": "execute_result",
          "data": {
            "text/plain": [
              "         x1        x2        x3        x4        x5        x6        x7  \\\n",
              "0 -0.236824 -0.006193 -0.224011 -0.147134  0.032246 -0.006193 -0.159947   \n",
              "1  0.104239 -0.004250  0.056021 -0.076575 -0.016304 -0.016304  0.019859   \n",
              "2  0.180066 -0.003883  0.180066  0.017758 -0.036345 -0.003883  0.115143   \n",
              "3  0.000114 -0.015663  0.031668 -0.110324  0.000114  0.000114  0.063222   \n",
              "4 -0.107980 -0.005590 -0.056785 -0.069583  0.020008  0.032807  0.058404   \n",
              "\n",
              "         x8        x9       x10  ...      y463      y464      y465      y466  \\\n",
              "0 -1.133721 -0.159947 -0.121508  ...  0.034117 -0.785904 -0.747465 -0.709027   \n",
              "1 -0.582855  0.007804 -0.004250  ...  0.030482 -0.680720 -0.656611 -0.632502   \n",
              "2  0.028579  0.115143  0.071861  ...  0.047943 -0.525545 -0.482263 -0.460622   \n",
              "3 -1.041159  0.078999  0.078999  ... -0.015938 -1.341195 -1.246533 -1.167649   \n",
              "4 -0.799111  0.084002  0.109599  ...  0.043323 -0.852588 -0.814192 -0.775796   \n",
              "\n",
              "       y467      y468  image_name       yaw     pitch      roll  \n",
              "0 -0.849968 -0.901219  image03195  0.725284 -0.140406 -0.174674  \n",
              "1 -0.801262 -0.825371  image03247 -0.233745 -0.116700  0.095809  \n",
              "2 -0.633751 -0.698674  image03214 -1.330352  0.003072  0.362599  \n",
              "3 -1.593625 -1.656732  image03238 -0.040907 -0.474087  0.019801  \n",
              "4 -0.916582 -0.954978  image03236  0.205732 -0.241359 -0.150232  \n",
              "\n",
              "[5 rows x 940 columns]"
            ],
            "text/html": [
              "\n",
              "  <div id=\"df-77851c65-694f-46f0-b7a0-41fdebc602f9\">\n",
              "    <div class=\"colab-df-container\">\n",
              "      <div>\n",
              "<style scoped>\n",
              "    .dataframe tbody tr th:only-of-type {\n",
              "        vertical-align: middle;\n",
              "    }\n",
              "\n",
              "    .dataframe tbody tr th {\n",
              "        vertical-align: top;\n",
              "    }\n",
              "\n",
              "    .dataframe thead th {\n",
              "        text-align: right;\n",
              "    }\n",
              "</style>\n",
              "<table border=\"1\" class=\"dataframe\">\n",
              "  <thead>\n",
              "    <tr style=\"text-align: right;\">\n",
              "      <th></th>\n",
              "      <th>x1</th>\n",
              "      <th>x2</th>\n",
              "      <th>x3</th>\n",
              "      <th>x4</th>\n",
              "      <th>x5</th>\n",
              "      <th>x6</th>\n",
              "      <th>x7</th>\n",
              "      <th>x8</th>\n",
              "      <th>x9</th>\n",
              "      <th>x10</th>\n",
              "      <th>...</th>\n",
              "      <th>y463</th>\n",
              "      <th>y464</th>\n",
              "      <th>y465</th>\n",
              "      <th>y466</th>\n",
              "      <th>y467</th>\n",
              "      <th>y468</th>\n",
              "      <th>image_name</th>\n",
              "      <th>yaw</th>\n",
              "      <th>pitch</th>\n",
              "      <th>roll</th>\n",
              "    </tr>\n",
              "  </thead>\n",
              "  <tbody>\n",
              "    <tr>\n",
              "      <th>0</th>\n",
              "      <td>-0.236824</td>\n",
              "      <td>-0.006193</td>\n",
              "      <td>-0.224011</td>\n",
              "      <td>-0.147134</td>\n",
              "      <td>0.032246</td>\n",
              "      <td>-0.006193</td>\n",
              "      <td>-0.159947</td>\n",
              "      <td>-1.133721</td>\n",
              "      <td>-0.159947</td>\n",
              "      <td>-0.121508</td>\n",
              "      <td>...</td>\n",
              "      <td>0.034117</td>\n",
              "      <td>-0.785904</td>\n",
              "      <td>-0.747465</td>\n",
              "      <td>-0.709027</td>\n",
              "      <td>-0.849968</td>\n",
              "      <td>-0.901219</td>\n",
              "      <td>image03195</td>\n",
              "      <td>0.725284</td>\n",
              "      <td>-0.140406</td>\n",
              "      <td>-0.174674</td>\n",
              "    </tr>\n",
              "    <tr>\n",
              "      <th>1</th>\n",
              "      <td>0.104239</td>\n",
              "      <td>-0.004250</td>\n",
              "      <td>0.056021</td>\n",
              "      <td>-0.076575</td>\n",
              "      <td>-0.016304</td>\n",
              "      <td>-0.016304</td>\n",
              "      <td>0.019859</td>\n",
              "      <td>-0.582855</td>\n",
              "      <td>0.007804</td>\n",
              "      <td>-0.004250</td>\n",
              "      <td>...</td>\n",
              "      <td>0.030482</td>\n",
              "      <td>-0.680720</td>\n",
              "      <td>-0.656611</td>\n",
              "      <td>-0.632502</td>\n",
              "      <td>-0.801262</td>\n",
              "      <td>-0.825371</td>\n",
              "      <td>image03247</td>\n",
              "      <td>-0.233745</td>\n",
              "      <td>-0.116700</td>\n",
              "      <td>0.095809</td>\n",
              "    </tr>\n",
              "    <tr>\n",
              "      <th>2</th>\n",
              "      <td>0.180066</td>\n",
              "      <td>-0.003883</td>\n",
              "      <td>0.180066</td>\n",
              "      <td>0.017758</td>\n",
              "      <td>-0.036345</td>\n",
              "      <td>-0.003883</td>\n",
              "      <td>0.115143</td>\n",
              "      <td>0.028579</td>\n",
              "      <td>0.115143</td>\n",
              "      <td>0.071861</td>\n",
              "      <td>...</td>\n",
              "      <td>0.047943</td>\n",
              "      <td>-0.525545</td>\n",
              "      <td>-0.482263</td>\n",
              "      <td>-0.460622</td>\n",
              "      <td>-0.633751</td>\n",
              "      <td>-0.698674</td>\n",
              "      <td>image03214</td>\n",
              "      <td>-1.330352</td>\n",
              "      <td>0.003072</td>\n",
              "      <td>0.362599</td>\n",
              "    </tr>\n",
              "    <tr>\n",
              "      <th>3</th>\n",
              "      <td>0.000114</td>\n",
              "      <td>-0.015663</td>\n",
              "      <td>0.031668</td>\n",
              "      <td>-0.110324</td>\n",
              "      <td>0.000114</td>\n",
              "      <td>0.000114</td>\n",
              "      <td>0.063222</td>\n",
              "      <td>-1.041159</td>\n",
              "      <td>0.078999</td>\n",
              "      <td>0.078999</td>\n",
              "      <td>...</td>\n",
              "      <td>-0.015938</td>\n",
              "      <td>-1.341195</td>\n",
              "      <td>-1.246533</td>\n",
              "      <td>-1.167649</td>\n",
              "      <td>-1.593625</td>\n",
              "      <td>-1.656732</td>\n",
              "      <td>image03238</td>\n",
              "      <td>-0.040907</td>\n",
              "      <td>-0.474087</td>\n",
              "      <td>0.019801</td>\n",
              "    </tr>\n",
              "    <tr>\n",
              "      <th>4</th>\n",
              "      <td>-0.107980</td>\n",
              "      <td>-0.005590</td>\n",
              "      <td>-0.056785</td>\n",
              "      <td>-0.069583</td>\n",
              "      <td>0.020008</td>\n",
              "      <td>0.032807</td>\n",
              "      <td>0.058404</td>\n",
              "      <td>-0.799111</td>\n",
              "      <td>0.084002</td>\n",
              "      <td>0.109599</td>\n",
              "      <td>...</td>\n",
              "      <td>0.043323</td>\n",
              "      <td>-0.852588</td>\n",
              "      <td>-0.814192</td>\n",
              "      <td>-0.775796</td>\n",
              "      <td>-0.916582</td>\n",
              "      <td>-0.954978</td>\n",
              "      <td>image03236</td>\n",
              "      <td>0.205732</td>\n",
              "      <td>-0.241359</td>\n",
              "      <td>-0.150232</td>\n",
              "    </tr>\n",
              "  </tbody>\n",
              "</table>\n",
              "<p>5 rows × 940 columns</p>\n",
              "</div>\n",
              "      <button class=\"colab-df-convert\" onclick=\"convertToInteractive('df-77851c65-694f-46f0-b7a0-41fdebc602f9')\"\n",
              "              title=\"Convert this dataframe to an interactive table.\"\n",
              "              style=\"display:none;\">\n",
              "        \n",
              "  <svg xmlns=\"http://www.w3.org/2000/svg\" height=\"24px\"viewBox=\"0 0 24 24\"\n",
              "       width=\"24px\">\n",
              "    <path d=\"M0 0h24v24H0V0z\" fill=\"none\"/>\n",
              "    <path d=\"M18.56 5.44l.94 2.06.94-2.06 2.06-.94-2.06-.94-.94-2.06-.94 2.06-2.06.94zm-11 1L8.5 8.5l.94-2.06 2.06-.94-2.06-.94L8.5 2.5l-.94 2.06-2.06.94zm10 10l.94 2.06.94-2.06 2.06-.94-2.06-.94-.94-2.06-.94 2.06-2.06.94z\"/><path d=\"M17.41 7.96l-1.37-1.37c-.4-.4-.92-.59-1.43-.59-.52 0-1.04.2-1.43.59L10.3 9.45l-7.72 7.72c-.78.78-.78 2.05 0 2.83L4 21.41c.39.39.9.59 1.41.59.51 0 1.02-.2 1.41-.59l7.78-7.78 2.81-2.81c.8-.78.8-2.07 0-2.86zM5.41 20L4 18.59l7.72-7.72 1.47 1.35L5.41 20z\"/>\n",
              "  </svg>\n",
              "      </button>\n",
              "      \n",
              "  <style>\n",
              "    .colab-df-container {\n",
              "      display:flex;\n",
              "      flex-wrap:wrap;\n",
              "      gap: 12px;\n",
              "    }\n",
              "\n",
              "    .colab-df-convert {\n",
              "      background-color: #E8F0FE;\n",
              "      border: none;\n",
              "      border-radius: 50%;\n",
              "      cursor: pointer;\n",
              "      display: none;\n",
              "      fill: #1967D2;\n",
              "      height: 32px;\n",
              "      padding: 0 0 0 0;\n",
              "      width: 32px;\n",
              "    }\n",
              "\n",
              "    .colab-df-convert:hover {\n",
              "      background-color: #E2EBFA;\n",
              "      box-shadow: 0px 1px 2px rgba(60, 64, 67, 0.3), 0px 1px 3px 1px rgba(60, 64, 67, 0.15);\n",
              "      fill: #174EA6;\n",
              "    }\n",
              "\n",
              "    [theme=dark] .colab-df-convert {\n",
              "      background-color: #3B4455;\n",
              "      fill: #D2E3FC;\n",
              "    }\n",
              "\n",
              "    [theme=dark] .colab-df-convert:hover {\n",
              "      background-color: #434B5C;\n",
              "      box-shadow: 0px 1px 3px 1px rgba(0, 0, 0, 0.15);\n",
              "      filter: drop-shadow(0px 1px 2px rgba(0, 0, 0, 0.3));\n",
              "      fill: #FFFFFF;\n",
              "    }\n",
              "  </style>\n",
              "\n",
              "      <script>\n",
              "        const buttonEl =\n",
              "          document.querySelector('#df-77851c65-694f-46f0-b7a0-41fdebc602f9 button.colab-df-convert');\n",
              "        buttonEl.style.display =\n",
              "          google.colab.kernel.accessAllowed ? 'block' : 'none';\n",
              "\n",
              "        async function convertToInteractive(key) {\n",
              "          const element = document.querySelector('#df-77851c65-694f-46f0-b7a0-41fdebc602f9');\n",
              "          const dataTable =\n",
              "            await google.colab.kernel.invokeFunction('convertToInteractive',\n",
              "                                                     [key], {});\n",
              "          if (!dataTable) return;\n",
              "\n",
              "          const docLinkHtml = 'Like what you see? Visit the ' +\n",
              "            '<a target=\"_blank\" href=https://colab.research.google.com/notebooks/data_table.ipynb>data table notebook</a>'\n",
              "            + ' to learn more about interactive tables.';\n",
              "          element.innerHTML = '';\n",
              "          dataTable['output_type'] = 'display_data';\n",
              "          await google.colab.output.renderOutput(dataTable, element);\n",
              "          const docLink = document.createElement('div');\n",
              "          docLink.innerHTML = docLinkHtml;\n",
              "          element.appendChild(docLink);\n",
              "        }\n",
              "      </script>\n",
              "    </div>\n",
              "  </div>\n",
              "  "
            ]
          },
          "metadata": {},
          "execution_count": 22
        }
      ]
    },
    {
      "cell_type": "code",
      "source": [
        "X = data.iloc[:,:-4]\n",
        "X.head(1)"
      ],
      "metadata": {
        "colab": {
          "base_uri": "https://localhost:8080/",
          "height": 174
        },
        "id": "DKdNWBSgL8Mh",
        "outputId": "0051e776-e445-4ee3-fd20-d6e0214a339d"
      },
      "execution_count": 23,
      "outputs": [
        {
          "output_type": "execute_result",
          "data": {
            "text/plain": [
              "         x1        x2        x3        x4        x5        x6        x7  \\\n",
              "0 -0.236824 -0.006193 -0.224011 -0.147134  0.032246 -0.006193 -0.159947   \n",
              "\n",
              "         x8        x9       x10  ...      y459      y460      y461      y462  \\\n",
              "0 -1.133721 -0.159947 -0.121508  ...  0.008491 -0.029947  0.008491  0.021304   \n",
              "\n",
              "       y463      y464      y465      y466      y467      y468  \n",
              "0  0.034117 -0.785904 -0.747465 -0.709027 -0.849968 -0.901219  \n",
              "\n",
              "[1 rows x 936 columns]"
            ],
            "text/html": [
              "\n",
              "  <div id=\"df-b886841c-4382-44c3-a795-b742181183f9\">\n",
              "    <div class=\"colab-df-container\">\n",
              "      <div>\n",
              "<style scoped>\n",
              "    .dataframe tbody tr th:only-of-type {\n",
              "        vertical-align: middle;\n",
              "    }\n",
              "\n",
              "    .dataframe tbody tr th {\n",
              "        vertical-align: top;\n",
              "    }\n",
              "\n",
              "    .dataframe thead th {\n",
              "        text-align: right;\n",
              "    }\n",
              "</style>\n",
              "<table border=\"1\" class=\"dataframe\">\n",
              "  <thead>\n",
              "    <tr style=\"text-align: right;\">\n",
              "      <th></th>\n",
              "      <th>x1</th>\n",
              "      <th>x2</th>\n",
              "      <th>x3</th>\n",
              "      <th>x4</th>\n",
              "      <th>x5</th>\n",
              "      <th>x6</th>\n",
              "      <th>x7</th>\n",
              "      <th>x8</th>\n",
              "      <th>x9</th>\n",
              "      <th>x10</th>\n",
              "      <th>...</th>\n",
              "      <th>y459</th>\n",
              "      <th>y460</th>\n",
              "      <th>y461</th>\n",
              "      <th>y462</th>\n",
              "      <th>y463</th>\n",
              "      <th>y464</th>\n",
              "      <th>y465</th>\n",
              "      <th>y466</th>\n",
              "      <th>y467</th>\n",
              "      <th>y468</th>\n",
              "    </tr>\n",
              "  </thead>\n",
              "  <tbody>\n",
              "    <tr>\n",
              "      <th>0</th>\n",
              "      <td>-0.236824</td>\n",
              "      <td>-0.006193</td>\n",
              "      <td>-0.224011</td>\n",
              "      <td>-0.147134</td>\n",
              "      <td>0.032246</td>\n",
              "      <td>-0.006193</td>\n",
              "      <td>-0.159947</td>\n",
              "      <td>-1.133721</td>\n",
              "      <td>-0.159947</td>\n",
              "      <td>-0.121508</td>\n",
              "      <td>...</td>\n",
              "      <td>0.008491</td>\n",
              "      <td>-0.029947</td>\n",
              "      <td>0.008491</td>\n",
              "      <td>0.021304</td>\n",
              "      <td>0.034117</td>\n",
              "      <td>-0.785904</td>\n",
              "      <td>-0.747465</td>\n",
              "      <td>-0.709027</td>\n",
              "      <td>-0.849968</td>\n",
              "      <td>-0.901219</td>\n",
              "    </tr>\n",
              "  </tbody>\n",
              "</table>\n",
              "<p>1 rows × 936 columns</p>\n",
              "</div>\n",
              "      <button class=\"colab-df-convert\" onclick=\"convertToInteractive('df-b886841c-4382-44c3-a795-b742181183f9')\"\n",
              "              title=\"Convert this dataframe to an interactive table.\"\n",
              "              style=\"display:none;\">\n",
              "        \n",
              "  <svg xmlns=\"http://www.w3.org/2000/svg\" height=\"24px\"viewBox=\"0 0 24 24\"\n",
              "       width=\"24px\">\n",
              "    <path d=\"M0 0h24v24H0V0z\" fill=\"none\"/>\n",
              "    <path d=\"M18.56 5.44l.94 2.06.94-2.06 2.06-.94-2.06-.94-.94-2.06-.94 2.06-2.06.94zm-11 1L8.5 8.5l.94-2.06 2.06-.94-2.06-.94L8.5 2.5l-.94 2.06-2.06.94zm10 10l.94 2.06.94-2.06 2.06-.94-2.06-.94-.94-2.06-.94 2.06-2.06.94z\"/><path d=\"M17.41 7.96l-1.37-1.37c-.4-.4-.92-.59-1.43-.59-.52 0-1.04.2-1.43.59L10.3 9.45l-7.72 7.72c-.78.78-.78 2.05 0 2.83L4 21.41c.39.39.9.59 1.41.59.51 0 1.02-.2 1.41-.59l7.78-7.78 2.81-2.81c.8-.78.8-2.07 0-2.86zM5.41 20L4 18.59l7.72-7.72 1.47 1.35L5.41 20z\"/>\n",
              "  </svg>\n",
              "      </button>\n",
              "      \n",
              "  <style>\n",
              "    .colab-df-container {\n",
              "      display:flex;\n",
              "      flex-wrap:wrap;\n",
              "      gap: 12px;\n",
              "    }\n",
              "\n",
              "    .colab-df-convert {\n",
              "      background-color: #E8F0FE;\n",
              "      border: none;\n",
              "      border-radius: 50%;\n",
              "      cursor: pointer;\n",
              "      display: none;\n",
              "      fill: #1967D2;\n",
              "      height: 32px;\n",
              "      padding: 0 0 0 0;\n",
              "      width: 32px;\n",
              "    }\n",
              "\n",
              "    .colab-df-convert:hover {\n",
              "      background-color: #E2EBFA;\n",
              "      box-shadow: 0px 1px 2px rgba(60, 64, 67, 0.3), 0px 1px 3px 1px rgba(60, 64, 67, 0.15);\n",
              "      fill: #174EA6;\n",
              "    }\n",
              "\n",
              "    [theme=dark] .colab-df-convert {\n",
              "      background-color: #3B4455;\n",
              "      fill: #D2E3FC;\n",
              "    }\n",
              "\n",
              "    [theme=dark] .colab-df-convert:hover {\n",
              "      background-color: #434B5C;\n",
              "      box-shadow: 0px 1px 3px 1px rgba(0, 0, 0, 0.15);\n",
              "      filter: drop-shadow(0px 1px 2px rgba(0, 0, 0, 0.3));\n",
              "      fill: #FFFFFF;\n",
              "    }\n",
              "  </style>\n",
              "\n",
              "      <script>\n",
              "        const buttonEl =\n",
              "          document.querySelector('#df-b886841c-4382-44c3-a795-b742181183f9 button.colab-df-convert');\n",
              "        buttonEl.style.display =\n",
              "          google.colab.kernel.accessAllowed ? 'block' : 'none';\n",
              "\n",
              "        async function convertToInteractive(key) {\n",
              "          const element = document.querySelector('#df-b886841c-4382-44c3-a795-b742181183f9');\n",
              "          const dataTable =\n",
              "            await google.colab.kernel.invokeFunction('convertToInteractive',\n",
              "                                                     [key], {});\n",
              "          if (!dataTable) return;\n",
              "\n",
              "          const docLinkHtml = 'Like what you see? Visit the ' +\n",
              "            '<a target=\"_blank\" href=https://colab.research.google.com/notebooks/data_table.ipynb>data table notebook</a>'\n",
              "            + ' to learn more about interactive tables.';\n",
              "          element.innerHTML = '';\n",
              "          dataTable['output_type'] = 'display_data';\n",
              "          await google.colab.output.renderOutput(dataTable, element);\n",
              "          const docLink = document.createElement('div');\n",
              "          docLink.innerHTML = docLinkHtml;\n",
              "          element.appendChild(docLink);\n",
              "        }\n",
              "      </script>\n",
              "    </div>\n",
              "  </div>\n",
              "  "
            ]
          },
          "metadata": {},
          "execution_count": 23
        }
      ]
    },
    {
      "cell_type": "code",
      "source": [
        "y = data.iloc[:,-3:]\n",
        "y.head(1)"
      ],
      "metadata": {
        "colab": {
          "base_uri": "https://localhost:8080/",
          "height": 81
        },
        "id": "H2J2HnY2MPzi",
        "outputId": "2fddf0db-251c-4e1c-9903-424f3ccf9399"
      },
      "execution_count": 24,
      "outputs": [
        {
          "output_type": "execute_result",
          "data": {
            "text/plain": [
              "        yaw     pitch      roll\n",
              "0  0.725284 -0.140406 -0.174674"
            ],
            "text/html": [
              "\n",
              "  <div id=\"df-32df7892-9cc5-4e0e-a38f-ef2de1fd8df6\">\n",
              "    <div class=\"colab-df-container\">\n",
              "      <div>\n",
              "<style scoped>\n",
              "    .dataframe tbody tr th:only-of-type {\n",
              "        vertical-align: middle;\n",
              "    }\n",
              "\n",
              "    .dataframe tbody tr th {\n",
              "        vertical-align: top;\n",
              "    }\n",
              "\n",
              "    .dataframe thead th {\n",
              "        text-align: right;\n",
              "    }\n",
              "</style>\n",
              "<table border=\"1\" class=\"dataframe\">\n",
              "  <thead>\n",
              "    <tr style=\"text-align: right;\">\n",
              "      <th></th>\n",
              "      <th>yaw</th>\n",
              "      <th>pitch</th>\n",
              "      <th>roll</th>\n",
              "    </tr>\n",
              "  </thead>\n",
              "  <tbody>\n",
              "    <tr>\n",
              "      <th>0</th>\n",
              "      <td>0.725284</td>\n",
              "      <td>-0.140406</td>\n",
              "      <td>-0.174674</td>\n",
              "    </tr>\n",
              "  </tbody>\n",
              "</table>\n",
              "</div>\n",
              "      <button class=\"colab-df-convert\" onclick=\"convertToInteractive('df-32df7892-9cc5-4e0e-a38f-ef2de1fd8df6')\"\n",
              "              title=\"Convert this dataframe to an interactive table.\"\n",
              "              style=\"display:none;\">\n",
              "        \n",
              "  <svg xmlns=\"http://www.w3.org/2000/svg\" height=\"24px\"viewBox=\"0 0 24 24\"\n",
              "       width=\"24px\">\n",
              "    <path d=\"M0 0h24v24H0V0z\" fill=\"none\"/>\n",
              "    <path d=\"M18.56 5.44l.94 2.06.94-2.06 2.06-.94-2.06-.94-.94-2.06-.94 2.06-2.06.94zm-11 1L8.5 8.5l.94-2.06 2.06-.94-2.06-.94L8.5 2.5l-.94 2.06-2.06.94zm10 10l.94 2.06.94-2.06 2.06-.94-2.06-.94-.94-2.06-.94 2.06-2.06.94z\"/><path d=\"M17.41 7.96l-1.37-1.37c-.4-.4-.92-.59-1.43-.59-.52 0-1.04.2-1.43.59L10.3 9.45l-7.72 7.72c-.78.78-.78 2.05 0 2.83L4 21.41c.39.39.9.59 1.41.59.51 0 1.02-.2 1.41-.59l7.78-7.78 2.81-2.81c.8-.78.8-2.07 0-2.86zM5.41 20L4 18.59l7.72-7.72 1.47 1.35L5.41 20z\"/>\n",
              "  </svg>\n",
              "      </button>\n",
              "      \n",
              "  <style>\n",
              "    .colab-df-container {\n",
              "      display:flex;\n",
              "      flex-wrap:wrap;\n",
              "      gap: 12px;\n",
              "    }\n",
              "\n",
              "    .colab-df-convert {\n",
              "      background-color: #E8F0FE;\n",
              "      border: none;\n",
              "      border-radius: 50%;\n",
              "      cursor: pointer;\n",
              "      display: none;\n",
              "      fill: #1967D2;\n",
              "      height: 32px;\n",
              "      padding: 0 0 0 0;\n",
              "      width: 32px;\n",
              "    }\n",
              "\n",
              "    .colab-df-convert:hover {\n",
              "      background-color: #E2EBFA;\n",
              "      box-shadow: 0px 1px 2px rgba(60, 64, 67, 0.3), 0px 1px 3px 1px rgba(60, 64, 67, 0.15);\n",
              "      fill: #174EA6;\n",
              "    }\n",
              "\n",
              "    [theme=dark] .colab-df-convert {\n",
              "      background-color: #3B4455;\n",
              "      fill: #D2E3FC;\n",
              "    }\n",
              "\n",
              "    [theme=dark] .colab-df-convert:hover {\n",
              "      background-color: #434B5C;\n",
              "      box-shadow: 0px 1px 3px 1px rgba(0, 0, 0, 0.15);\n",
              "      filter: drop-shadow(0px 1px 2px rgba(0, 0, 0, 0.3));\n",
              "      fill: #FFFFFF;\n",
              "    }\n",
              "  </style>\n",
              "\n",
              "      <script>\n",
              "        const buttonEl =\n",
              "          document.querySelector('#df-32df7892-9cc5-4e0e-a38f-ef2de1fd8df6 button.colab-df-convert');\n",
              "        buttonEl.style.display =\n",
              "          google.colab.kernel.accessAllowed ? 'block' : 'none';\n",
              "\n",
              "        async function convertToInteractive(key) {\n",
              "          const element = document.querySelector('#df-32df7892-9cc5-4e0e-a38f-ef2de1fd8df6');\n",
              "          const dataTable =\n",
              "            await google.colab.kernel.invokeFunction('convertToInteractive',\n",
              "                                                     [key], {});\n",
              "          if (!dataTable) return;\n",
              "\n",
              "          const docLinkHtml = 'Like what you see? Visit the ' +\n",
              "            '<a target=\"_blank\" href=https://colab.research.google.com/notebooks/data_table.ipynb>data table notebook</a>'\n",
              "            + ' to learn more about interactive tables.';\n",
              "          element.innerHTML = '';\n",
              "          dataTable['output_type'] = 'display_data';\n",
              "          await google.colab.output.renderOutput(dataTable, element);\n",
              "          const docLink = document.createElement('div');\n",
              "          docLink.innerHTML = docLinkHtml;\n",
              "          element.appendChild(docLink);\n",
              "        }\n",
              "      </script>\n",
              "    </div>\n",
              "  </div>\n",
              "  "
            ]
          },
          "metadata": {},
          "execution_count": 24
        }
      ]
    },
    {
      "cell_type": "code",
      "source": [
        "x_train, x_test, y_train, y_test = train_test_split(X, y, test_size=0.20, random_state=42, shuffle=True)"
      ],
      "metadata": {
        "id": "i6R3wwE8MmRf"
      },
      "execution_count": 25,
      "outputs": []
    },
    {
      "cell_type": "markdown",
      "source": [
        "## **Model 1: RandomForest**\n",
        "\n",
        "\n"
      ],
      "metadata": {
        "id": "6JavhCARgXmh"
      }
    },
    {
      "cell_type": "code",
      "source": [
        "clf = MultiOutputRegressor(RandomForestRegressor(max_depth=6, random_state=42, bootstrap=True),n_jobs=-1)\n",
        "clf.fit(x_train, y_train)"
      ],
      "metadata": {
        "id": "ph1PoGNBL106",
        "colab": {
          "base_uri": "https://localhost:8080/"
        },
        "outputId": "07264285-ca4e-4beb-a933-6ce5cba2bb32"
      },
      "execution_count": 26,
      "outputs": [
        {
          "output_type": "execute_result",
          "data": {
            "text/plain": [
              "MultiOutputRegressor(estimator=RandomForestRegressor(max_depth=6,\n",
              "                                                     random_state=42),\n",
              "                     n_jobs=-1)"
            ]
          },
          "metadata": {},
          "execution_count": 26
        }
      ]
    },
    {
      "cell_type": "code",
      "source": [
        "print(f\"training score: {clf.score(x_train, y_train, sample_weight=None)}\")\n",
        "print(f\"testing score: {clf.score(x_test, y_test, sample_weight=None)}\")"
      ],
      "metadata": {
        "colab": {
          "base_uri": "https://localhost:8080/"
        },
        "id": "-1A-UxCffgra",
        "outputId": "8021f581-ded7-4a74-8570-07cc7e2e1744"
      },
      "execution_count": 27,
      "outputs": [
        {
          "output_type": "stream",
          "name": "stdout",
          "text": [
            "training score: 0.8794205922987813\n",
            "testing score: 0.7221536275744578\n"
          ]
        }
      ]
    },
    {
      "cell_type": "code",
      "execution_count": 28,
      "outputs": [],
      "source": [
        "# save model\n",
        "with open('/content/drive/MyDrive/Head Pose Estimation ML Project/Saved Models/model_Rm.pkl', 'wb') as file:\n",
        "        pickle.dump(clf, file)"
      ],
      "metadata": {
        "pycharm": {
          "name": "#%%\n"
        },
        "id": "l247GTOrj6p0"
      }
    },
    {
      "cell_type": "markdown",
      "source": [
        "## **Model 2: SVR**\n",
        "  "
      ],
      "metadata": {
        "id": "k3RQZVo4hIcc"
      }
    },
    {
      "cell_type": "code",
      "source": [
        "# define base model\n",
        "model = SVR(kernel='rbf', C=300, degree=4,coef0=1) \n",
        "\n",
        "# define the direct multioutput wrapper model\n",
        "wrapper = MultiOutputRegressor(model)\n",
        "wrapper.fit(x_train, y_train)\n",
        "y_pred = wrapper.predict(x_test)"
      ],
      "metadata": {
        "id": "t9IHukU-hLj5"
      },
      "execution_count": 29,
      "outputs": []
    },
    {
      "cell_type": "code",
      "source": [
        "print(f\"training score: {wrapper.score(x_train, y_train, sample_weight=None)}\")\n",
        "print(f\"testing score: {wrapper.score(x_test, y_test, sample_weight=None)}\")"
      ],
      "metadata": {
        "colab": {
          "base_uri": "https://localhost:8080/"
        },
        "id": "BrxehtREmbSU",
        "outputId": "5c5d9267-980f-447d-cbd8-78bb9f2f4107"
      },
      "execution_count": 30,
      "outputs": [
        {
          "output_type": "stream",
          "name": "stdout",
          "text": [
            "training score: 0.7964517949349106\n",
            "testing score: 0.769823845816001\n"
          ]
        }
      ]
    },
    {
      "cell_type": "code",
      "execution_count": 31,
      "outputs": [],
      "source": [
        "# save model\n",
        "with open('/content/drive/MyDrive/Head Pose Estimation ML Project/Saved Models/model_svr.pkl', 'wb') as file:\n",
        "        pickle.dump(wrapper, file)"
      ],
      "metadata": {
        "pycharm": {
          "name": "#%%\n"
        },
        "id": "4FvkDw5ij6p1"
      }
    },
    {
      "cell_type": "markdown",
      "source": [
        "## **Model 3: GradientBoost**\n",
        "\n"
      ],
      "metadata": {
        "id": "Hs6LLTu3kmKk"
      }
    },
    {
      "cell_type": "code",
      "source": [
        "from sklearn.ensemble import GradientBoostingRegressor\n",
        "gbr = GradientBoostingRegressor(random_state=42,n_estimators=20,learning_rate=0.05,max_depth=6) #random_state=42,n_estimators=100,learning_rate=0.05\n",
        "model = MultiOutputRegressor(estimator=gbr,n_jobs=-1)"
      ],
      "metadata": {
        "id": "J5tZBI9fn0ny"
      },
      "execution_count": 32,
      "outputs": []
    },
    {
      "cell_type": "code",
      "source": [
        "model.fit(x_train, y_train)\n",
        "ypred = model.predict(x_test)"
      ],
      "metadata": {
        "id": "rJsRBTFnn87w"
      },
      "execution_count": 33,
      "outputs": []
    },
    {
      "cell_type": "code",
      "source": [
        "print(f\"training score: {model.score(x_train, y_train)}\")\n",
        "print(f\"testing score: {model.score(x_test, y_test)}\")"
      ],
      "metadata": {
        "colab": {
          "base_uri": "https://localhost:8080/"
        },
        "id": "QJCLbhSV4f3V",
        "outputId": "6eb59aad-27a4-4a33-bdd3-8abb2a8806cb"
      },
      "execution_count": 34,
      "outputs": [
        {
          "output_type": "stream",
          "name": "stdout",
          "text": [
            "training score: 0.7905088566135884\n",
            "testing score: 0.6228090670586276\n"
          ]
        }
      ]
    },
    {
      "cell_type": "code",
      "execution_count": 35,
      "outputs": [],
      "source": [
        "# save model\n",
        "with open('/content/drive/MyDrive/Head Pose Estimation ML Project/Saved Models/model_GB.pkl', 'wb') as file:\n",
        "        pickle.dump(model, file)"
      ],
      "metadata": {
        "pycharm": {
          "name": "#%%\n"
        },
        "id": "pbIsULYwj6p1"
      }
    },
    {
      "cell_type": "markdown",
      "source": [
        "## **Model 3: XGBoost**\n",
        "\n"
      ],
      "metadata": {
        "id": "Kb9W65d1MXW6"
      }
    },
    {
      "cell_type": "code",
      "source": [
        "from xgboost.sklearn import XGBRegressor\n",
        "xbg = XGBRegressor(random_state=42, max_depth=5, n_estimators=300,reg_alpha=0.1)\n",
        "model = MultiOutputRegressor(estimator=xbg,n_jobs=-1)"
      ],
      "metadata": {
        "id": "43QWr06eMZLg"
      },
      "execution_count": 36,
      "outputs": []
    },
    {
      "cell_type": "code",
      "source": [
        "model.fit(x_train, y_train)\n",
        "ypred = model.predict(x_test)"
      ],
      "metadata": {
        "id": "4mbyDwvmMdI6"
      },
      "execution_count": 37,
      "outputs": []
    },
    {
      "cell_type": "code",
      "source": [
        "print(f\"training score: {model.score(x_train, y_train)}\")\n",
        "print(f\"testing score: {model.score(x_test, y_test)}\")"
      ],
      "metadata": {
        "colab": {
          "base_uri": "https://localhost:8080/"
        },
        "id": "CoKvvsCYMmeJ",
        "outputId": "1bd77dcd-9552-4976-911e-d040e900c2bc"
      },
      "execution_count": 38,
      "outputs": [
        {
          "output_type": "stream",
          "name": "stdout",
          "text": [
            "training score: 0.9994157640762155\n",
            "testing score: 0.7258803428019664\n"
          ]
        }
      ]
    },
    {
      "cell_type": "code",
      "source": [
        "# save model\n",
        "with open('/content/drive/MyDrive/Head Pose Estimation ML Project/Saved Models/model_XGB.pkl', 'wb') as file:\n",
        "        pickle.dump(model, file)"
      ],
      "metadata": {
        "id": "hVAgKLjyNTP0"
      },
      "execution_count": 39,
      "outputs": []
    },
    {
      "cell_type": "markdown",
      "metadata": {
        "id": "g02mE1JOwEH-"
      },
      "source": [
        "#**Single models trial**:"
      ]
    },
    {
      "cell_type": "markdown",
      "source": [
        "### Yaw prediction"
      ],
      "metadata": {
        "id": "bMvP6Ju8BEln"
      }
    },
    {
      "cell_type": "code",
      "execution_count": 40,
      "metadata": {
        "colab": {
          "base_uri": "https://localhost:8080/"
        },
        "id": "4_bPdn2Xj8cp",
        "outputId": "a83ad850-d78f-4b8a-d43b-4694670ae763"
      },
      "outputs": [
        {
          "output_type": "execute_result",
          "data": {
            "text/plain": [
              "MultiOutputRegressor(estimator=GradientBoostingRegressor(n_estimators=50,\n",
              "                                                         random_state=42,\n",
              "                                                         subsample=1))"
            ]
          },
          "metadata": {},
          "execution_count": 40
        }
      ],
      "source": [
        "from sklearn.ensemble import GradientBoostingRegressor\n",
        "gbr = GradientBoostingRegressor(random_state=42, n_estimators= 50, subsample=1) \n",
        "model_yaw = MultiOutputRegressor(estimator=gbr)\n",
        "model_yaw.fit(x_train, y_train[['yaw']].to_numpy())"
      ]
    },
    {
      "cell_type": "code",
      "execution_count": 41,
      "metadata": {
        "colab": {
          "base_uri": "https://localhost:8080/"
        },
        "id": "uqM9h4ytkT60",
        "outputId": "ec1d018d-85eb-4cb2-f2b4-e88d97c00e6e"
      },
      "outputs": [
        {
          "output_type": "stream",
          "name": "stdout",
          "text": [
            "training score: 0.9225273908020336\n",
            "testing score: 0.799039316376515\n"
          ]
        }
      ],
      "source": [
        "print(f\"training score: {model_yaw.score(x_train, y_train[['yaw']].to_numpy())}\")\n",
        "print(f\"testing score: {model_yaw.score(x_test, y_test[['yaw']].to_numpy())}\")"
      ]
    },
    {
      "cell_type": "markdown",
      "source": [
        "### Pitch prediction"
      ],
      "metadata": {
        "id": "WW3BSQpOBbj5"
      }
    },
    {
      "cell_type": "code",
      "execution_count": 42,
      "metadata": {
        "colab": {
          "base_uri": "https://localhost:8080/"
        },
        "id": "7DYLRd2vQdDY",
        "outputId": "af5d28cf-1b63-4904-89d2-ee2bc912c524"
      },
      "outputs": [
        {
          "output_type": "execute_result",
          "data": {
            "text/plain": [
              "MultiOutputRegressor(estimator=GradientBoostingRegressor(n_estimators=50,\n",
              "                                                         random_state=42,\n",
              "                                                         subsample=1))"
            ]
          },
          "metadata": {},
          "execution_count": 42
        }
      ],
      "source": [
        "from sklearn.ensemble import GradientBoostingRegressor\n",
        "gbr = GradientBoostingRegressor(random_state=42, n_estimators= 50, subsample=1) \n",
        "model_pitch = MultiOutputRegressor(estimator=gbr)\n",
        "model_pitch.fit(x_train, y_train[['pitch']].to_numpy())"
      ]
    },
    {
      "cell_type": "code",
      "execution_count": 43,
      "metadata": {
        "colab": {
          "base_uri": "https://localhost:8080/"
        },
        "id": "uNZG4EYJQdDY",
        "outputId": "f9fcf22d-3d1f-4a25-d4e0-a83b66080c5d"
      },
      "outputs": [
        {
          "output_type": "stream",
          "name": "stdout",
          "text": [
            "training score: 0.8440887140474439\n",
            "testing score: 0.6184808564546651\n"
          ]
        }
      ],
      "source": [
        "print(f\"training score: {model_pitch.score(x_train, y_train[['pitch']].to_numpy())}\")\n",
        "print(f\"testing score: {model_pitch.score(x_test, y_test[['pitch']].to_numpy())}\")"
      ]
    },
    {
      "cell_type": "markdown",
      "source": [
        "### Roll prediction"
      ],
      "metadata": {
        "id": "cf0aJPNwBiHK"
      }
    },
    {
      "cell_type": "code",
      "execution_count": 44,
      "metadata": {
        "colab": {
          "base_uri": "https://localhost:8080/"
        },
        "id": "I6kB5AltQdOW",
        "outputId": "5351053d-143b-4f25-e9c9-988cd1425b4f"
      },
      "outputs": [
        {
          "output_type": "execute_result",
          "data": {
            "text/plain": [
              "MultiOutputRegressor(estimator=GradientBoostingRegressor(n_estimators=50,\n",
              "                                                         random_state=42,\n",
              "                                                         subsample=1))"
            ]
          },
          "metadata": {},
          "execution_count": 44
        }
      ],
      "source": [
        "from sklearn.ensemble import GradientBoostingRegressor\n",
        "gbr = GradientBoostingRegressor(random_state=42, n_estimators= 50, subsample=1) \n",
        "model_roll = MultiOutputRegressor(estimator=gbr)\n",
        "model_roll.fit(x_train, y_train[['roll']].to_numpy())"
      ]
    },
    {
      "cell_type": "code",
      "execution_count": 45,
      "metadata": {
        "colab": {
          "base_uri": "https://localhost:8080/"
        },
        "id": "x-2buKapQdOX",
        "outputId": "a9ea0f53-ca90-4fdc-e363-f5278edd706a"
      },
      "outputs": [
        {
          "output_type": "stream",
          "name": "stdout",
          "text": [
            "training score: 0.8707538941239709\n",
            "testing score: 0.7231964095695946\n"
          ]
        }
      ],
      "source": [
        "print(f\"training score: {model_roll.score(x_train, y_train[['roll']].to_numpy())}\")\n",
        "print(f\"testing score: {model_roll.score(x_test, y_test[['roll']].to_numpy())}\")"
      ]
    },
    {
      "cell_type": "code",
      "execution_count": 46,
      "metadata": {
        "id": "OH4LXEHwkmq-"
      },
      "outputs": [],
      "source": [
        "# save model\n",
        "with open('/content/drive/MyDrive/Head Pose Estimation ML Project/Saved Models/model_GB_yaw.pkl', 'wb') as file:\n",
        "        pickle.dump(model_yaw, file)"
      ]
    },
    {
      "cell_type": "code",
      "execution_count": 47,
      "metadata": {
        "id": "Jk-tSXlMQ_ZM"
      },
      "outputs": [],
      "source": [
        "# save model\n",
        "with open('/content/drive/MyDrive/Head Pose Estimation ML Project/Saved Models/model_GB_pitch.pkl', 'wb') as file:\n",
        "        pickle.dump(model_pitch, file)"
      ]
    },
    {
      "cell_type": "code",
      "execution_count": 48,
      "metadata": {
        "id": "gawxJXFyQ_e0"
      },
      "outputs": [],
      "source": [
        "# save model\n",
        "with open('/content/drive/MyDrive/Head Pose Estimation ML Project/Saved Models/model_GB_roll.pkl', 'wb') as file:\n",
        "        pickle.dump(model_roll, file)"
      ]
    }
  ]
}